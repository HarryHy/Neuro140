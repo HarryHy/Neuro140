{
  "cells": [
    {
      "cell_type": "markdown",
      "metadata": {
        "id": "view-in-github",
        "colab_type": "text"
      },
      "source": [
        "<a href=\"https://colab.research.google.com/github/HarryHy/Neuro140/blob/main/%E2%80%9CNeuro_140_Style__transfer.ipynb\" target=\"_parent\"><img src=\"https://colab.research.google.com/assets/colab-badge.svg\" alt=\"Open In Colab\"/></a>"
      ]
    },
    {
      "cell_type": "code",
      "execution_count": null,
      "metadata": {
        "id": "xy92BWu0CxBm"
      },
      "outputs": [],
      "source": [
        "%matplotlib inline"
      ]
    },
    {
      "cell_type": "code",
      "execution_count": null,
      "metadata": {
        "id": "6CVCoZQ5C2B0"
      },
      "outputs": [],
      "source": [
        "from google.colab import drive\n",
        "drive.mount('/content/gdrive', force_remount=True)"
      ]
    },
    {
      "cell_type": "code",
      "execution_count": null,
      "metadata": {
        "id": "v-2jw6yAC3uc"
      },
      "outputs": [],
      "source": [
        "from __future__ import print_function\n",
        "\n",
        "import torch\n",
        "import torch.nn as nn\n",
        "import torch.nn.functional as F\n",
        "import torch.optim as optim\n",
        "\n",
        "from PIL import Image\n",
        "import matplotlib.pyplot as plt\n",
        "\n",
        "import torchvision.transforms as transforms\n",
        "import torchvision.models as models\n",
        "\n",
        "import copy\n",
        "\n",
        "import cv2"
      ]
    },
    {
      "cell_type": "code",
      "execution_count": null,
      "metadata": {
        "id": "Sfiif8qjC7v6"
      },
      "outputs": [],
      "source": [
        "device = torch.device(\"cuda\" if torch.cuda.is_available() else \"cpu\")"
      ]
    },
    {
      "cell_type": "code",
      "execution_count": null,
      "metadata": {
        "id": "_A3LgVGiC96P"
      },
      "outputs": [],
      "source": [
        "imsize = 512 if torch.cuda.is_available() else 256  # use small size if no gpu\n",
        "\n",
        "loader = transforms.Compose([\n",
        "    transforms.Resize(imsize),  # scale imported image\n",
        "    transforms.ToTensor()])  # transform it into a torch tensor\n",
        "\n",
        "\n",
        "def image_loader(image_name):\n",
        "    image = cv2.imread(image_name)\n",
        "    image = cv2.cvtColor(image, cv2.COLOR_BGR2RGB)\n",
        "    image = cv2.resize(image, (224, 224))\n",
        "    # fake batch dimension required to fit network's input dimensions\n",
        "    image = Image.fromarray(image)\n",
        "    image = loader(image).unsqueeze(0)\n",
        "    return image.to(device, torch.float)"
      ]
    },
    {
      "cell_type": "code",
      "execution_count": null,
      "metadata": {
        "id": "DPpW4nXPDAsl"
      },
      "outputs": [],
      "source": [
        "root_file = \"/content/gdrive/My Drive/noreward-rl-master/\"\n",
        "style_img = image_loader(\"/content/gdrive/My Drive/c2.jpeg\")\n",
        "style_img_grass = image_loader(\"/content/gdrive/My Drive/g1.jpeg\")\n",
        "style_img_elephant = image_loader(\"/content/gdrive/My Drive/e1.jpeg\")\n",
        "style_img_bottle = image_loader(\"/content/gdrive/My Drive/b1.jpeg\")\n",
        "style_img_paint = image_loader(\"/content/gdrive/My Drive/m1.jpeg\")\n",
        "content_img = image_loader(\"/content/gdrive/My Drive/g1.jpeg\")"
      ]
    },
    {
      "cell_type": "code",
      "execution_count": null,
      "metadata": {
        "id": "iG7vZQboENrF"
      },
      "outputs": [],
      "source": [
        "unloader = transforms.ToPILImage()  # reconvert into PIL image\n",
        "\n",
        "plt.ion()\n",
        "\n",
        "def imshow(tensor, title=None):\n",
        "    image = tensor.cpu().clone()  # we clone the tensor to not do changes on it\n",
        "    image = image.squeeze(0)      # remove the fake batch dimension\n",
        "    image = unloader(image)\n",
        "    plt.imshow(image)\n",
        "    if title is not None:\n",
        "        plt.title(title)\n",
        "    plt.pause(0.001) # pause a bit so that plots are updated\n",
        "    return image\n",
        "\n",
        "plt.figure()\n",
        "imshow(style_img, title='Style Image')\n",
        "\n",
        "plt.figure()\n",
        "imshow(content_img, title='Content Image')"
      ]
    },
    {
      "cell_type": "code",
      "execution_count": null,
      "metadata": {
        "id": "OBVLDhPpEP0r"
      },
      "outputs": [],
      "source": [
        "class ContentLoss(nn.Module):\n",
        "\n",
        "    def __init__(self, target,):\n",
        "        super(ContentLoss, self).__init__()\n",
        "        # we 'detach' the target content from the tree used\n",
        "        # to dynamically compute the gradient: this is a stated value,\n",
        "        # not a variable. Otherwise the forward method of the criterion\n",
        "        # will throw an error.\n",
        "        self.target = target.detach()\n",
        "\n",
        "    def forward(self, input):\n",
        "        self.loss = F.mse_loss(input, self.target)\n",
        "        return input"
      ]
    },
    {
      "cell_type": "code",
      "execution_count": null,
      "metadata": {
        "id": "S4qskHMGFJo7"
      },
      "outputs": [],
      "source": [
        "def get_input_optimizer(input_img):\n",
        "    # this line to show that input is a parameter that requires a gradient\n",
        "    optimizer = optim.LBFGS([input_img])\n",
        "    return optimizer"
      ]
    },
    {
      "cell_type": "code",
      "execution_count": null,
      "metadata": {
        "id": "-mZLeBMJFJrb"
      },
      "outputs": [],
      "source": [
        ""
      ]
    },
    {
      "cell_type": "code",
      "execution_count": null,
      "metadata": {
        "id": "bco7rZLrElqN"
      },
      "outputs": [],
      "source": [
        "def gram_matrix(input):\n",
        "    a, b, c, d = input.size()  # a=batch size(=1)\n",
        "    # b=number of feature maps\n",
        "    # (c,d)=dimensions of a f. map (N=c*d)\n",
        "\n",
        "    features = input.view(a * b, c * d)  # resise F_XL into \\hat F_XL\n",
        "\n",
        "    G = torch.mm(features, features.t())  # compute the gram product\n",
        "\n",
        "    # we 'normalize' the values of the gram matrix\n",
        "    # by dividing by the number of element in each feature maps.\n",
        "    return G.div(a * b * c * d)"
      ]
    },
    {
      "cell_type": "code",
      "execution_count": null,
      "metadata": {
        "id": "OJietn7EFPzs"
      },
      "outputs": [],
      "source": [
        "class StyleLoss(nn.Module):\n",
        "\n",
        "    def __init__(self, target_feature):\n",
        "        super(StyleLoss, self).__init__()\n",
        "        self.target = gram_matrix(target_feature).detach()\n",
        "\n",
        "    def forward(self, input):\n",
        "        G = gram_matrix(input)\n",
        "        self.loss = F.mse_loss(G, self.target)\n",
        "        return input"
      ]
    },
    {
      "cell_type": "code",
      "execution_count": null,
      "metadata": {
        "id": "-C1J3yjTFP2i"
      },
      "outputs": [],
      "source": [
        "cnn = models.vgg19(pretrained=True).features.to(device).eval()"
      ]
    },
    {
      "cell_type": "code",
      "execution_count": null,
      "metadata": {
        "id": "x8izPGpZFWHJ"
      },
      "outputs": [],
      "source": [
        "cnn_normalization_mean = torch.tensor([0.485, 0.456, 0.406]).to(device)\n",
        "cnn_normalization_std = torch.tensor([0.229, 0.224, 0.225]).to(device)\n",
        "\n",
        "# create a module to normalize input image so we can easily put it in a\n",
        "# nn.Sequential\n",
        "class Normalization(nn.Module):\n",
        "    def __init__(self, mean, std):\n",
        "        super(Normalization, self).__init__()\n",
        "        # .view the mean and std to make them [C x 1 x 1] so that they can\n",
        "        # directly work with image Tensor of shape [B x C x H x W].\n",
        "        # B is batch size. C is number of channels. H is height and W is width.\n",
        "        self.mean = torch.tensor(mean).view(-1, 1, 1)\n",
        "        self.std = torch.tensor(std).view(-1, 1, 1)\n",
        "\n",
        "    def forward(self, img):\n",
        "        # normalize img\n",
        "        return (img - self.mean) / self.std"
      ]
    },
    {
      "cell_type": "code",
      "execution_count": null,
      "metadata": {
        "id": "pjJp6QMFFWJ3"
      },
      "outputs": [],
      "source": [
        "# desired depth layers to compute style/content losses :\n",
        "content_layers_default = ['conv_4']\n",
        "style_layers_default = ['conv_1', 'conv_2', 'conv_3', 'conv_4', 'conv_5']\n",
        "\n",
        "def get_style_model_and_losses(cnn, normalization_mean, normalization_std,\n",
        "                               style_img, content_img,\n",
        "                               content_layers=content_layers_default,\n",
        "                               style_layers=style_layers_default):\n",
        "    # normalization module\n",
        "    normalization = Normalization(normalization_mean, normalization_std).to(device)\n",
        "\n",
        "    # just in order to have an iterable access to or list of content/syle\n",
        "    # losses\n",
        "    content_losses = []\n",
        "    style_losses = []\n",
        "\n",
        "    # assuming that cnn is a nn.Sequential, so we make a new nn.Sequential\n",
        "    # to put in modules that are supposed to be activated sequentially\n",
        "    model = nn.Sequential(normalization)\n",
        "\n",
        "    i = 0  # increment every time we see a conv\n",
        "    for layer in cnn.children():\n",
        "        if isinstance(layer, nn.Conv2d):\n",
        "            i += 1\n",
        "            name = 'conv_{}'.format(i)\n",
        "        elif isinstance(layer, nn.ReLU):\n",
        "            name = 'relu_{}'.format(i)\n",
        "            # The in-place version doesn't play very nicely with the ContentLoss\n",
        "            # and StyleLoss we insert below. So we replace with out-of-place\n",
        "            # ones here.\n",
        "            layer = nn.ReLU(inplace=False)\n",
        "        elif isinstance(layer, nn.MaxPool2d):\n",
        "            name = 'pool_{}'.format(i)\n",
        "        elif isinstance(layer, nn.BatchNorm2d):\n",
        "            name = 'bn_{}'.format(i)\n",
        "        else:\n",
        "            raise RuntimeError('Unrecognized layer: {}'.format(layer.__class__.__name__))\n",
        "\n",
        "        model.add_module(name, layer)\n",
        "\n",
        "        if name in content_layers:\n",
        "            # add content loss:\n",
        "            target = model(content_img).detach()\n",
        "            content_loss = ContentLoss(target)\n",
        "            model.add_module(\"content_loss_{}\".format(i), content_loss)\n",
        "            content_losses.append(content_loss)\n",
        "\n",
        "        if name in style_layers:\n",
        "            # add style loss:\n",
        "            target_feature = model(style_img).detach()\n",
        "            style_loss = StyleLoss(target_feature)\n",
        "            model.add_module(\"style_loss_{}\".format(i), style_loss)\n",
        "            style_losses.append(style_loss)\n",
        "\n",
        "    # now we trim off the layers after the last content and style losses\n",
        "    for i in range(len(model) - 1, -1, -1):\n",
        "        if isinstance(model[i], ContentLoss) or isinstance(model[i], StyleLoss):\n",
        "            break\n",
        "\n",
        "    model = model[:(i + 1)]\n",
        "\n",
        "    return model, style_losses, content_losses"
      ]
    },
    {
      "cell_type": "code",
      "execution_count": null,
      "metadata": {
        "id": "CiGJVYDqEoEm"
      },
      "outputs": [],
      "source": [
        "def run_style_transfer(cnn, normalization_mean, normalization_std,\n",
        "                       content_img, style_img, input_img, num_steps=300,\n",
        "                       style_weight=1000000, content_weight=1):\n",
        "    \"\"\"Run the style transfer.\"\"\"\n",
        "    #print('Building the style transfer model..')\n",
        "    model, style_losses, content_losses = get_style_model_and_losses(cnn,\n",
        "        normalization_mean, normalization_std, style_img, content_img)\n",
        "\n",
        "    # We want to optimize the input and not the model parameters so we\n",
        "    # update all the requires_grad fields accordingly\n",
        "    input_img.requires_grad_(True)\n",
        "    model.requires_grad_(False)\n",
        "\n",
        "    optimizer = get_input_optimizer(input_img)\n",
        "\n",
        "    #print('Optimizing..')\n",
        "    run = [0]\n",
        "    while run[0] <= num_steps:\n",
        "\n",
        "        def closure():\n",
        "            # correct the values of updated input image\n",
        "            with torch.no_grad():\n",
        "                input_img.clamp_(0, 1)\n",
        "\n",
        "            optimizer.zero_grad()\n",
        "            model(input_img)\n",
        "            style_score = 0\n",
        "            content_score = 0\n",
        "\n",
        "            for sl in style_losses:\n",
        "                style_score += sl.loss\n",
        "            for cl in content_losses:\n",
        "                content_score += cl.loss\n",
        "\n",
        "            style_score *= style_weight\n",
        "            content_score *= content_weight\n",
        "\n",
        "            loss = style_score + content_score\n",
        "            loss.backward()\n",
        "\n",
        "            run[0] += 1\n",
        "            \n",
        "            if run[0] % 100 == 0:\n",
        "                #print(\"run {}:\".format(run))\n",
        "                print('Style Loss : {:4f} Content Loss: {:4f}'.format(\n",
        "                    style_score.item(), content_score.item()))\n",
        "                #print()\n",
        "            \n",
        "            return style_score + content_score\n",
        "\n",
        "        optimizer.step(closure)\n",
        "\n",
        "    # a last correction...\n",
        "    with torch.no_grad():\n",
        "        input_img.clamp_(0, 1)\n",
        "\n",
        "    return input_img"
      ]
    },
    {
      "cell_type": "code",
      "execution_count": null,
      "metadata": {
        "id": "n1Ot8-8DF6-P"
      },
      "outputs": [],
      "source": [
        "from torchvision import transforms\n",
        "\n",
        "preprocess = transforms.Compose([\n",
        "        transforms.Resize(256),\n",
        "        transforms.CenterCrop(224),\n",
        "        transforms.ToTensor(),\n",
        "        transforms.Normalize(\n",
        "        mean=[0.485, 0.456, 0.406],\n",
        "        std=[0.229, 0.224, 0.225]\n",
        "    )])"
      ]
    },
    {
      "cell_type": "code",
      "execution_count": null,
      "metadata": {
        "id": "2We3lzhrF75c"
      },
      "outputs": [],
      "source": [
        "from torchvision import models\n",
        "dir(models)\n",
        "resnet = models.resnext101_32x8d(pretrained=True)"
      ]
    },
    {
      "cell_type": "code",
      "execution_count": null,
      "metadata": {
        "id": "5RYYxoQkHFgE"
      },
      "outputs": [],
      "source": [
        "dir(models)"
      ]
    },
    {
      "cell_type": "code",
      "execution_count": null,
      "metadata": {
        "id": "haGiCW7jF77r"
      },
      "outputs": [],
      "source": [
        "import numpy as np"
      ]
    },
    {
      "cell_type": "markdown",
      "metadata": {
        "id": "yNwhuYNjGFXs"
      },
      "source": [
        "# Clock Example"
      ]
    },
    {
      "cell_type": "code",
      "execution_count": null,
      "metadata": {
        "collapsed": true,
        "id": "9I03foODEtsW"
      },
      "outputs": [],
      "source": [
        "from PIL import Image\n",
        "import glob\n",
        "import os, os.path\n",
        "\n",
        "path = \"/content/gdrive/My Drive/Image20/Clock/\"\n",
        "\n",
        "for f in os.listdir(path):\n",
        "    count = 0\n",
        "    content_img = image_loader(str(path+f))\n",
        "    input_img = content_img.clone()\n",
        "    imshow(content_img)\n",
        "    for num in [0, 20, 50, 100, 300, 500]:\n",
        "        print(\"num is \", num)\n",
        "        if count > 20:\n",
        "            break\n",
        "        print(str(path+f))\n",
        "        if f == \".DS_Store\":\n",
        "            continue\n",
        "        \n",
        "        if num !=0 :\n",
        "          output = run_style_transfer(cnn, cnn_normalization_mean, cnn_normalization_std,\n",
        "                                  content_img, style_img_grass, input_img, num_steps= num)\n",
        "\n",
        "          plt.figure()\n",
        "          imshow(output, title='Output Image')\n",
        "          plt.ioff()\n",
        "          plt.show()\n",
        "\n",
        "          n_out = output.cpu().detach().numpy()\n",
        "          #print(n_out.shape)\n",
        "          n_out = n_out.reshape((imsize, imsize, 3))\n",
        "          #print(n_out.shape)\n",
        "\n",
        "          n_out = n_out * 255\n",
        "          n_out = n_out.astype(np.uint8)\n",
        "\n",
        "          p_out = Image.fromarray(n_out)\n",
        "\n",
        "        else:\n",
        "\n",
        "          n_out = content_img.cpu().detach().numpy()\n",
        "          print(n_out.shape)\n",
        "          n_out = n_out.reshape((imsize, imsize, 3))\n",
        "          print(n_out.shape)\n",
        "\n",
        "          n_out = n_out * 255\n",
        "          n_out = n_out.astype(np.uint8)\n",
        "\n",
        "          p_out = Image.fromarray(n_out)\n",
        "        img_cat_preprocessed = preprocess(p_out)\n",
        "        batch_img_cat_tensor = torch.unsqueeze(img_cat_preprocessed, 0)\n",
        "\n",
        "        resnet.eval()\n",
        "        out = resnet(batch_img_cat_tensor)\n",
        "        _, index = torch.max(out, 1)\n",
        "        print(index)\n",
        "    count += 1"
      ]
    },
    {
      "cell_type": "markdown",
      "metadata": {
        "id": "a74D0S2aGIIW"
      },
      "source": [
        "# Elephant Example"
      ]
    },
    {
      "cell_type": "code",
      "execution_count": null,
      "metadata": {
        "id": "CqWrTwnUIccv"
      },
      "outputs": [],
      "source": [
        "from PIL import Image\n",
        "import glob\n",
        "import os, os.path\n",
        "\n",
        "path = \"/content/gdrive/My Drive/Image20/elephant/\"\n",
        "\n",
        "for f in os.listdir(path):\n",
        "    count = 0\n",
        "    content_img = image_loader(str(path+f))\n",
        "    input_img = content_img.clone()\n",
        "    imshow(content_img)\n",
        "    for num in [0, 20, 100, 500, 750]:\n",
        "        print(\"num is \", num)\n",
        "        if count > 30:\n",
        "            break\n",
        "        print(str(path+f))\n",
        "        if f == \".DS_Store\":\n",
        "            continue\n",
        "        \n",
        "        if num !=0 :\n",
        "          output = run_style_transfer(cnn, cnn_normalization_mean, cnn_normalization_std,\n",
        "                                  content_img, style_img, input_img, num_steps= num)\n",
        "\n",
        "          plt.figure()\n",
        "          imshow(output, title='Output Image')\n",
        "          plt.ioff()\n",
        "          plt.show()\n",
        "\n",
        "          n_out = output.cpu().detach().numpy()\n",
        "          #print(n_out.shape)\n",
        "          n_out = n_out.reshape((imsize, imsize, 3))\n",
        "          #print(n_out.shape)\n",
        "\n",
        "          n_out = n_out * 255\n",
        "          n_out = n_out.astype(np.uint8)\n",
        "\n",
        "          p_out = Image.fromarray(n_out)\n",
        "\n",
        "        else:\n",
        "\n",
        "          n_out = content_img.cpu().detach().numpy()\n",
        "          print(n_out.shape)\n",
        "          n_out = n_out.reshape((imsize, imsize, 3))\n",
        "          print(n_out.shape)\n",
        "\n",
        "          n_out = n_out * 255\n",
        "          n_out = n_out.astype(np.uint8)\n",
        "\n",
        "          p_out = Image.fromarray(n_out)\n",
        "        img_cat_preprocessed = preprocess(p_out)\n",
        "        batch_img_cat_tensor = torch.unsqueeze(img_cat_preprocessed, 0)\n",
        "\n",
        "        resnet.eval()\n",
        "        out = resnet(batch_img_cat_tensor)\n",
        "        #_, index = torch.max(out, 1)\n",
        "        \n",
        "        accuracy, index = torch.topk(out, 5, dim = 1)\n",
        "        print(accuracy)\n",
        "        print(index)\n",
        "    count += 1"
      ]
    },
    {
      "cell_type": "code",
      "execution_count": null,
      "metadata": {
        "id": "b91BY15VTsPP"
      },
      "outputs": [],
      "source": [
        "from PIL import Image\n",
        "import glob\n",
        "import os, os.path\n",
        "\n",
        "path = \"/content/gdrive/My Drive/Image20/elephant/\"\n",
        "count = 0\n",
        "\n",
        "for f in os.listdir(path):\n",
        "    print(\"nun of style is \", count)\n",
        "    if count > 25:\n",
        "            break\n",
        "    content_img = image_loader(str(path+f))\n",
        "    input_img = content_img.clone()\n",
        "    imshow(content_img)\n",
        "    for num in [0, 20, 100, 500, 750]:\n",
        "        print(\"num is \", num)\n",
        "        \n",
        "        print(str(path+f))\n",
        "        if f == \".DS_Store\":\n",
        "            continue\n",
        "        \n",
        "        if num !=0 :\n",
        "          output = run_style_transfer(cnn, cnn_normalization_mean, cnn_normalization_std,\n",
        "                                  content_img, style_img_grass, input_img, num_steps= num)\n",
        "\n",
        "          plt.figure()\n",
        "          imshow(output, title='Output Image')\n",
        "          plt.ioff()\n",
        "          plt.show()\n",
        "\n",
        "          n_out = output.cpu().detach().numpy()\n",
        "          #print(n_out.shape)\n",
        "          n_out = n_out.reshape((imsize, imsize, 3))\n",
        "          #print(n_out.shape)\n",
        "\n",
        "          n_out = n_out * 255\n",
        "          n_out = n_out.astype(np.uint8)\n",
        "\n",
        "          p_out = Image.fromarray(n_out)\n",
        "\n",
        "        else:\n",
        "\n",
        "          n_out = content_img.cpu().detach().numpy()\n",
        "          print(n_out.shape)\n",
        "          n_out = n_out.reshape((imsize, imsize, 3))\n",
        "          print(n_out.shape)\n",
        "\n",
        "          n_out = n_out * 255\n",
        "          n_out = n_out.astype(np.uint8)\n",
        "\n",
        "          p_out = Image.fromarray(n_out)\n",
        "        img_cat_preprocessed = preprocess(p_out)\n",
        "        batch_img_cat_tensor = torch.unsqueeze(img_cat_preprocessed, 0)\n",
        "\n",
        "        resnet.eval()\n",
        "        out = resnet(batch_img_cat_tensor)\n",
        "        #_, index = torch.max(out, 1)\n",
        "        \n",
        "        accuracy, index = torch.topk(out, 5, dim = 1)\n",
        "        print(accuracy)\n",
        "        print(index)\n",
        "    count += 1"
      ]
    },
    {
      "cell_type": "code",
      "execution_count": null,
      "metadata": {
        "id": "8zighec2wYWY"
      },
      "outputs": [],
      "source": [
        "#@title\n",
        "from PIL import Image\n",
        "import glob\n",
        "import os, os.path\n",
        "\n",
        "path = \"/content/gdrive/My Drive/Image20/elephant/\"\n",
        "count = 0\n",
        "\n",
        "for f in os.listdir(path):\n",
        "    if count > 25:\n",
        "            break\n",
        "    content_img = image_loader(str(path+f))\n",
        "    input_img = content_img.clone()\n",
        "    imshow(content_img)\n",
        "    for num in [0, 20, 100, 500]:\n",
        "        print(\"num is \", num)\n",
        "        if count > 25:\n",
        "            break\n",
        "        print(str(path+f))\n",
        "        if f == \".DS_Store\":\n",
        "            continue\n",
        "        \n",
        "        if num !=0 :\n",
        "          output = run_style_transfer(cnn, cnn_normalization_mean, cnn_normalization_std,\n",
        "                                  content_img, style_img_elephant, input_img, num_steps= num)\n",
        "\n",
        "          plt.figure()\n",
        "          imshow(output, title='Output Image')\n",
        "          plt.ioff()\n",
        "          plt.show()\n",
        "\n",
        "          n_out = output.cpu().detach().numpy()\n",
        "          #print(n_out.shape)\n",
        "          n_out = n_out.reshape((imsize, imsize, 3))\n",
        "          #print(n_out.shape)\n",
        "\n",
        "          n_out = n_out * 255\n",
        "          n_out = n_out.astype(np.uint8)\n",
        "\n",
        "          p_out = Image.fromarray(n_out)\n",
        "\n",
        "        else:\n",
        "\n",
        "          n_out = content_img.cpu().detach().numpy()\n",
        "          print(n_out.shape)\n",
        "          n_out = n_out.reshape((imsize, imsize, 3))\n",
        "          print(n_out.shape)\n",
        "\n",
        "          n_out = n_out * 255\n",
        "          n_out = n_out.astype(np.uint8)\n",
        "\n",
        "          p_out = Image.fromarray(n_out)\n",
        "        \n",
        "\n",
        "        img_cat_preprocessed = preprocess(p_out)\n",
        "        batch_img_cat_tensor = torch.unsqueeze(img_cat_preprocessed, 0)\n",
        "\n",
        "        resnet.eval()\n",
        "        out = resnet(batch_img_cat_tensor)\n",
        "        #_, index = torch.max(out, 1)\n",
        "        \n",
        "        accuracy, index = torch.topk(out, 5, dim = 1)\n",
        "        print(accuracy)\n",
        "        print(index)\n",
        "    count += 1"
      ]
    },
    {
      "cell_type": "code",
      "execution_count": null,
      "metadata": {
        "id": "Kxfe2lUGFj-R"
      },
      "outputs": [],
      "source": [
        "from PIL import Image\n",
        "import glob\n",
        "import os, os.path\n",
        "\n",
        "path = \"/content/gdrive/My Drive/Image20/elephant/\"\n",
        "count = 0\n",
        "\n",
        "for f in os.listdir(path):\n",
        "    if count > 25:\n",
        "            break\n",
        "    print(\"count is \", count)\n",
        "    content_img = image_loader(str(path+f))\n",
        "    input_img = content_img.clone()\n",
        "    imshow(content_img)\n",
        "    for num in [0, 20, 100, 500]:\n",
        "        print(\"num is \", num)\n",
        "        if count > 25:\n",
        "            break\n",
        "        print(str(path+f))\n",
        "        if f == \".DS_Store\":\n",
        "            continue\n",
        "        \n",
        "        if num !=0 :\n",
        "          output = run_style_transfer(cnn, cnn_normalization_mean, cnn_normalization_std,\n",
        "                                  content_img, style_img_leo, input_img, num_steps= num)\n",
        "\n",
        "          plt.figure()\n",
        "          imshow(output, title='Output Image')\n",
        "          plt.ioff()\n",
        "          plt.show()\n",
        "\n",
        "          n_out = output.cpu().detach().numpy()\n",
        "          #print(n_out.shape)\n",
        "          n_out = n_out.reshape((imsize, imsize, 3))\n",
        "          #print(n_out.shape)\n",
        "\n",
        "          n_out = n_out * 255\n",
        "          n_out = n_out.astype(np.uint8)\n",
        "\n",
        "          p_out = Image.fromarray(n_out)\n",
        "\n",
        "        else:\n",
        "\n",
        "          n_out = content_img.cpu().detach().numpy()\n",
        "          print(n_out.shape)\n",
        "          n_out = n_out.reshape((imsize, imsize, 3))\n",
        "          print(n_out.shape)\n",
        "\n",
        "          n_out = n_out * 255\n",
        "          n_out = n_out.astype(np.uint8)\n",
        "\n",
        "          p_out = Image.fromarray(n_out)\n",
        "        img_cat_preprocessed = preprocess(p_out)\n",
        "        batch_img_cat_tensor = torch.unsqueeze(img_cat_preprocessed, 0)\n",
        "\n",
        "        resnet.eval()\n",
        "        out = resnet(batch_img_cat_tensor)\n",
        "        #_, index = torch.max(out, 1)\n",
        "        \n",
        "        accuracy, index = torch.topk(out, 5, dim = 1)\n",
        "        print(accuracy)\n",
        "        print(index)\n",
        "    count += 1"
      ]
    },
    {
      "cell_type": "code",
      "execution_count": null,
      "metadata": {
        "id": "WzzuCT8MFvIO"
      },
      "outputs": [],
      "source": [
        "style_img_leo = image_loader(\"/content/gdrive/My Drive/l1.jpeg\")"
      ]
    },
    {
      "cell_type": "code",
      "execution_count": null,
      "metadata": {
        "id": "Y1Dte7ViFOFH"
      },
      "outputs": [],
      "source": [
        ""
      ]
    },
    {
      "cell_type": "code",
      "execution_count": null,
      "metadata": {
        "id": "Fdu6f8XlFOHp"
      },
      "outputs": [],
      "source": [
        ""
      ]
    },
    {
      "cell_type": "markdown",
      "metadata": {
        "id": "ZOBgq4z6GLCj"
      },
      "source": [
        "# Save the Image"
      ]
    },
    {
      "cell_type": "code",
      "execution_count": null,
      "metadata": {
        "id": "nk2-bPq_FOQU"
      },
      "outputs": [],
      "source": [
        "#@title\n",
        "from PIL import Image\n",
        "import glob\n",
        "import os, os.path\n",
        "\n",
        "path = \"/content/gdrive/My Drive/Image20/elephant/\"\n",
        "count = 0\n",
        "\n",
        "for f in os.listdir(path):\n",
        "    if count > 50:\n",
        "            break\n",
        "    content_img = image_loader(str(path+f))\n",
        "    input_img = content_img.clone()\n",
        "    imshow(content_img)\n",
        "    for num in [0, 20, 100, 500]:\n",
        "        print(\"num is \", num)\n",
        "        if count > 25:\n",
        "            break\n",
        "        print(str(path+f))\n",
        "        if f == \".DS_Store\":\n",
        "            continue\n",
        "        \n",
        "        if num !=0 :\n",
        "          output = run_style_transfer(cnn, cnn_normalization_mean, cnn_normalization_std,\n",
        "                                  content_img, style_img_elephant, input_img, num_steps= num)\n",
        "\n",
        "          plt.figure()\n",
        "          imshow(output, title='Output Image')\n",
        "          plt.ioff()\n",
        "          plt.show()\n",
        "\n",
        "          n_out = output.cpu().detach().numpy()\n",
        "          #print(n_out.shape)\n",
        "          n_out = n_out.reshape((imsize, imsize, 3))\n",
        "          #print(n_out.shape)\n",
        "\n",
        "          n_out = n_out * 255\n",
        "          n_out = n_out.astype(np.uint8)\n",
        "\n",
        "          p_out = Image.fromarray(n_out)\n",
        "\n",
        "        else:\n",
        "\n",
        "          n_out = content_img.cpu().detach().numpy()\n",
        "          print(n_out.shape)\n",
        "          n_out = n_out.reshape((imsize, imsize, 3))\n",
        "          print(n_out.shape)\n",
        "\n",
        "          n_out = n_out * 255\n",
        "          n_out = n_out.astype(np.uint8)\n",
        "\n",
        "          p_out = Image.fromarray(n_out)\n",
        "        \n",
        "        p_out.save(\"/content/gdrive/My Drive/Style/elephant/\" + \"elephant_\" + str(count) + \"_\" + \"iter_\" + str(num) + \".jpeg\")\n",
        "        \n",
        "    count += 1"
      ]
    },
    {
      "cell_type": "code",
      "execution_count": null,
      "metadata": {
        "id": "oWMVJE3-GWR6"
      },
      "outputs": [],
      "source": [
        "#@title\n",
        "from PIL import Image\n",
        "import glob\n",
        "import os, os.path\n",
        "\n",
        "path = \"/content/gdrive/My Drive/Image20/elephant/\"\n",
        "count = 0\n",
        "\n",
        "for f in os.listdir(path):\n",
        "    if count > 25:\n",
        "            break\n",
        "    content_img = image_loader(str(path+f))\n",
        "    input_img = content_img.clone()\n",
        "    imshow(content_img)\n",
        "    for num in [0, 20, 100, 500]:\n",
        "        print(\"num is \", num)\n",
        "        if count > 25:\n",
        "            break\n",
        "        print(str(path+f))\n",
        "        if f == \".DS_Store\":\n",
        "            continue\n",
        "        \n",
        "        if num !=0 :\n",
        "          output = run_style_transfer(cnn, cnn_normalization_mean, cnn_normalization_std,\n",
        "                                  content_img, style_img, input_img, num_steps= num)\n",
        "\n",
        "          plt.figure()\n",
        "          imshow(output, title='Output Image')\n",
        "          plt.ioff()\n",
        "          plt.show()\n",
        "\n",
        "          n_out = output.cpu().detach().numpy()\n",
        "          #print(n_out.shape)\n",
        "          n_out = n_out.reshape((imsize, imsize, 3))\n",
        "          #print(n_out.shape)\n",
        "\n",
        "          n_out = n_out * 255\n",
        "          n_out = n_out.astype(np.uint8)\n",
        "\n",
        "          p_out = Image.fromarray(n_out)\n",
        "\n",
        "        else:\n",
        "\n",
        "          n_out = content_img.cpu().detach().numpy()\n",
        "          print(n_out.shape)\n",
        "          n_out = n_out.reshape((imsize, imsize, 3))\n",
        "          print(n_out.shape)\n",
        "\n",
        "          n_out = n_out * 255\n",
        "          n_out = n_out.astype(np.uint8)\n",
        "\n",
        "          p_out = Image.fromarray(n_out)\n",
        "        \n",
        "        p_out.save(\"/content/gdrive/My Drive/Style/cat/\" + str(count) + \"_\" + \"iter_\" + str(num) + \".jpeg\")\n",
        "        \n",
        "    count += 1"
      ]
    },
    {
      "cell_type": "code",
      "execution_count": null,
      "metadata": {
        "id": "ZqZqd109ju4J"
      },
      "outputs": [],
      "source": [
        ""
      ]
    },
    {
      "cell_type": "markdown",
      "metadata": {
        "id": "OPtqDfQ1jv3Z"
      },
      "source": [
        "#Airplane texture generator\n"
      ]
    },
    {
      "cell_type": "code",
      "execution_count": null,
      "metadata": {
        "colab": {
          "background_save": true
        },
        "id": "0xlhucnmjvBp"
      },
      "outputs": [],
      "source": [
        "#@title\n",
        "from PIL import Image\n",
        "import glob\n",
        "import os, os.path\n",
        "\n",
        "path = \"/content/gdrive/My Drive/Image20/Airplane/\"\n",
        "count = -1\n",
        "\n",
        "for f in os.listdir(path):\n",
        "    count += 1\n",
        "    if count > 90:\n",
        "      break\n",
        "    content_img = image_loader(str(path+f))\n",
        "    input_img = content_img.clone()\n",
        "    imshow(content_img)\n",
        "    if count <= 50:\n",
        "      continue\n",
        "    for num in [0, 20, 100, 500]:\n",
        "        print(\"num is \", num)\n",
        "        print(str(path+f))\n",
        "        if f == \".DS_Store\":\n",
        "            continue\n",
        "        \n",
        "        if num !=0 :\n",
        "          output = run_style_transfer(cnn, cnn_normalization_mean, cnn_normalization_std,\n",
        "                                  content_img, style_img, input_img, num_steps= num)\n",
        "\n",
        "          plt.figure()\n",
        "          img = imshow(output, title='Output Image')\n",
        "          plt.ioff()\n",
        "          plt.show()\n",
        "\n",
        "          img.save(\"/content/gdrive/My Drive/p/train/airplane/\" + \"airplane_\" +str(count) + \"_\" + \"iter_\" + str(num) + \".jpeg\")\n",
        "          '''\n",
        "          n_out = output.cpu().detach().numpy()\n",
        "          #print(n_out.shape)\n",
        "          n_out = n_out.reshape((imsize, imsize, 3))\n",
        "          #print(n_out.shape)\n",
        "\n",
        "          n_out = n_out * 255\n",
        "          n_out = n_out.astype(np.uint8)\n",
        "\n",
        "          p_out = Image.fromarray(n_out)\n",
        "          '''\n",
        "        else:\n",
        "\n",
        "          n_out = content_img.cpu().detach().numpy()\n",
        "          print(n_out.shape)\n",
        "          n_out = n_out.reshape((imsize, imsize, 3))\n",
        "          print(n_out.shape)\n",
        "\n",
        "          n_out = n_out * 255\n",
        "          n_out = n_out.astype(np.uint8)\n",
        "\n",
        "          p_out = Image.fromarray(n_out)\n",
        "          p_out.save(\"/content/gdrive/My Drive/p/train/airplane/\" + \"airplane_\" +str(count) + \"_\" + \"iter_\" + str(num) + \".jpeg\")\n",
        "          #p_out.save(\"/content/gdrive/My Drive/Style/airplane/\" + \"airplane_\" +str(count) + \"_\" + \"iter_\" + str(num) + \".jpeg\")\n",
        "        #p_out.save(\"/content/gdrive/My Drive/Style/airplane/\" + \"airplane_\" +str(count) + \"_\" + \"iter_\" + str(num) + \".jpeg\")\n",
        "        \n",
        "    "
      ]
    },
    {
      "cell_type": "code",
      "execution_count": null,
      "metadata": {
        "id": "CRA740M6PTAb"
      },
      "outputs": [],
      "source": [
        ""
      ]
    },
    {
      "cell_type": "code",
      "execution_count": null,
      "metadata": {
        "id": "BRiSIZ4GPTEI"
      },
      "outputs": [],
      "source": [
        "#@title\n",
        "from PIL import Image\n",
        "import glob\n",
        "import os, os.path\n",
        "\n",
        "path = \"/content/gdrive/My Drive/Image20/Airplane/\"\n",
        "count = -1\n",
        "\n",
        "for f in os.listdir(path):\n",
        "    count += 1\n",
        "    if count > 105:\n",
        "      break\n",
        "    content_img = image_loader(str(path+f))\n",
        "    input_img = content_img.clone()\n",
        "    imshow(content_img)\n",
        "    if count <= 90:\n",
        "      continue\n",
        "    for num in [0, 20, 100, 500]:\n",
        "        print(\"num is \", num)\n",
        "        print(str(path+f))\n",
        "        if f == \".DS_Store\":\n",
        "            continue\n",
        "        \n",
        "        if num !=0 :\n",
        "          output = run_style_transfer(cnn, cnn_normalization_mean, cnn_normalization_std,\n",
        "                                  content_img, style_img, input_img, num_steps= num)\n",
        "\n",
        "          plt.figure()\n",
        "          img = imshow(output, title='Output Image')\n",
        "          plt.ioff()\n",
        "          plt.show()\n",
        "\n",
        "          img.save(\"/content/gdrive/My Drive/p/val/airplane/\" + \"airplane_\" +str(count) + \"_\" + \"iter_\" + str(num) + \".jpeg\")\n",
        "          '''\n",
        "          n_out = output.cpu().detach().numpy()\n",
        "          #print(n_out.shape)\n",
        "          n_out = n_out.reshape((imsize, imsize, 3))\n",
        "          #print(n_out.shape)\n",
        "\n",
        "          n_out = n_out * 255\n",
        "          n_out = n_out.astype(np.uint8)\n",
        "\n",
        "          p_out = Image.fromarray(n_out)\n",
        "          '''\n",
        "        else:\n",
        "\n",
        "          n_out = content_img.cpu().detach().numpy()\n",
        "          print(n_out.shape)\n",
        "          n_out = n_out.reshape((imsize, imsize, 3))\n",
        "          print(n_out.shape)\n",
        "\n",
        "          n_out = n_out * 255\n",
        "          n_out = n_out.astype(np.uint8)\n",
        "\n",
        "          p_out = Image.fromarray(n_out)\n",
        "          p_out.save(\"/content/gdrive/My Drive/p/val/airplane/\" + \"airplane_\" +str(count) + \"_\" + \"iter_\" + str(num) + \".jpeg\")\n",
        "          #p_out.save(\"/content/gdrive/My Drive/Style/airplane/\" + \"airplane_\" +str(count) + \"_\" + \"iter_\" + str(num) + \".jpeg\")\n",
        "        #p_out.save(\"/content/gdrive/My Drive/Style/airplane/\" + \"airplane_\" +str(count) + \"_\" + \"iter_\" + str(num) + \".jpeg\")\n",
        "        \n",
        "    "
      ]
    },
    {
      "cell_type": "code",
      "execution_count": null,
      "metadata": {
        "id": "EsWUW2YfSF37"
      },
      "outputs": [],
      "source": [
        ""
      ]
    },
    {
      "cell_type": "code",
      "execution_count": null,
      "metadata": {
        "id": "4BpAMDPRSF7_"
      },
      "outputs": [],
      "source": [
        ""
      ]
    },
    {
      "cell_type": "code",
      "execution_count": null,
      "metadata": {
        "id": "sm2wefokOdYL"
      },
      "outputs": [],
      "source": [
        ""
      ]
    },
    {
      "cell_type": "markdown",
      "metadata": {
        "id": "BLjPdsrJJRsr"
      },
      "source": [
        "# Orange Generator\n",
        "Training data"
      ]
    },
    {
      "cell_type": "code",
      "execution_count": null,
      "metadata": {
        "id": "Ay5szPbXGFEz"
      },
      "outputs": [],
      "source": [
        "#@title\n",
        "from PIL import Image\n",
        "import glob\n",
        "import os, os.path\n",
        "\n",
        "path = \"/content/gdrive/My Drive/Image20/Orange/\"\n",
        "count = -1\n",
        "\n",
        "style_img_orang = style_img\n",
        "for f in os.listdir(path):\n",
        "    count += 1\n",
        "    if count > 100:\n",
        "      break\n",
        "    if count <= 90:\n",
        "      continue\n",
        "    if count > 90:\n",
        "      style_img_orang = style_img_paint\n",
        "    content_img = image_loader(str(path+f))\n",
        "    input_img = content_img.clone()\n",
        "    imshow(content_img)\n",
        "    \n",
        "    for num in [0, 20, 100, 500]:\n",
        "        print(\"num is \", num)\n",
        "        print(str(path+f))\n",
        "        if f == \".DS_Store\":\n",
        "            continue\n",
        "        \n",
        "        if num !=0 :\n",
        "          output = run_style_transfer(cnn, cnn_normalization_mean, cnn_normalization_std,\n",
        "                                  content_img, style_img_orang, input_img, num_steps= num)\n",
        "\n",
        "          plt.figure()\n",
        "          img = imshow(output, title='Output Image')\n",
        "          plt.ioff()\n",
        "          plt.show()\n",
        "\n",
        "          img.save(\"/content/gdrive/My Drive/p/train/orange/\" + \"orange_\" +str(count) + \"_\" + \"iter_\" + str(num) + \".jpeg\")\n",
        "          '''\n",
        "          n_out = output.cpu().detach().numpy()\n",
        "          #print(n_out.shape)\n",
        "          n_out = n_out.reshape((imsize, imsize, 3))\n",
        "          #print(n_out.shape)\n",
        "\n",
        "          n_out = n_out * 255\n",
        "          n_out = n_out.astype(np.uint8)\n",
        "\n",
        "          p_out = Image.fromarray(n_out)\n",
        "          '''\n",
        "        else:\n",
        "\n",
        "          n_out = content_img.cpu().detach().numpy()\n",
        "          print(n_out.shape)\n",
        "          n_out = n_out.reshape((imsize, imsize, 3))\n",
        "          print(n_out.shape)\n",
        "\n",
        "          n_out = n_out * 255\n",
        "          n_out = n_out.astype(np.uint8)\n",
        "\n",
        "          p_out = Image.fromarray(n_out)\n",
        "          p_out.save(\"/content/gdrive/My Drive/p/train/orange/\" + \"orange_\" +str(count) + \"_\" + \"iter_\" + str(num) + \".jpeg\")\n",
        "          #p_out.save(\"/content/gdrive/My Drive/Style/airplane/\" + \"airplane_\" +str(count) + \"_\" + \"iter_\" + str(num) + \".jpeg\")\n",
        "        #p_out.save(\"/content/gdrive/My Drive/Style/airplane/\" + \"airplane_\" +str(count) + \"_\" + \"iter_\" + str(num) + \".jpeg\")\n",
        "        \n",
        "    "
      ]
    },
    {
      "cell_type": "code",
      "execution_count": null,
      "metadata": {
        "id": "TDsRv-L2GFbS"
      },
      "outputs": [],
      "source": [
        ""
      ]
    },
    {
      "cell_type": "markdown",
      "metadata": {
        "id": "4c-lyc5FJWX3"
      },
      "source": [
        "# Orange \n",
        "test data"
      ]
    },
    {
      "cell_type": "code",
      "execution_count": null,
      "metadata": {
        "id": "SJM_XhOoJsz8"
      },
      "outputs": [],
      "source": [
        "#@title\n",
        "from PIL import Image\n",
        "import glob\n",
        "import os, os.path\n",
        "\n",
        "path = \"/content/gdrive/My Drive/Image20/Orange/\"\n",
        "count = -1\n",
        "style_img_orang = style_img\n",
        "for f in os.listdir(path):\n",
        "    count += 1\n",
        "    if count > 120:\n",
        "      break\n",
        "    if count <= 100:\n",
        "      print(count)\n",
        "      continue\n",
        "    if count > 110:\n",
        "      style_img_orang = style_img_paint\n",
        "    content_img = image_loader(str(path+f))\n",
        "    input_img = content_img.clone()\n",
        "    imshow(content_img)\n",
        "    \n",
        "    for num in [0, 20, 100, 500]:\n",
        "        print(\"num is \", num)\n",
        "        print(str(path+f))\n",
        "        if f == \".DS_Store\":\n",
        "            continue\n",
        "        \n",
        "        if num !=0 :\n",
        "          output = run_style_transfer(cnn, cnn_normalization_mean, cnn_normalization_std,\n",
        "                                  content_img, style_img_orang, input_img, num_steps= num)\n",
        "\n",
        "          plt.figure()\n",
        "          img = imshow(output, title='Output Image')\n",
        "          plt.ioff()\n",
        "          plt.show()\n",
        "\n",
        "          img.save(\"/content/gdrive/My Drive/p/val/orange/\" + \"orange_\" +str(count) + \"_\" + \"iter_\" + str(num) + \".jpeg\")\n",
        "          '''\n",
        "          n_out = output.cpu().detach().numpy()\n",
        "          #print(n_out.shape)\n",
        "          n_out = n_out.reshape((imsize, imsize, 3))\n",
        "          #print(n_out.shape)\n",
        "\n",
        "          n_out = n_out * 255\n",
        "          n_out = n_out.astype(np.uint8)\n",
        "\n",
        "          p_out = Image.fromarray(n_out)\n",
        "          '''\n",
        "        else:\n",
        "\n",
        "          n_out = content_img.cpu().detach().numpy()\n",
        "          print(n_out.shape)\n",
        "          n_out = n_out.reshape((imsize, imsize, 3))\n",
        "          print(n_out.shape)\n",
        "\n",
        "          n_out = n_out * 255\n",
        "          n_out = n_out.astype(np.uint8)\n",
        "\n",
        "          p_out = Image.fromarray(n_out)\n",
        "          p_out.save(\"/content/gdrive/My Drive/p/val/orange/\" + \"orange_\" +str(count) + \"_\" + \"iter_\" + str(num) + \".jpeg\")\n",
        "          #p_out.save(\"/content/gdrive/My Drive/Style/airplane/\" + \"airplane_\" +str(count) + \"_\" + \"iter_\" + str(num) + \".jpeg\")\n",
        "        #p_out.save(\"/content/gdrive/My Drive/Style/airplane/\" + \"airplane_\" +str(count) + \"_\" + \"iter_\" + str(num) + \".jpeg\")\n",
        "        \n",
        "    "
      ]
    },
    {
      "cell_type": "markdown",
      "metadata": {
        "id": "ms0YeNiqJO2I"
      },
      "source": [
        "# Guitar Generator"
      ]
    },
    {
      "cell_type": "code",
      "execution_count": null,
      "metadata": {
        "id": "Ry-PawSKGrIK"
      },
      "outputs": [],
      "source": [
        "#@title\n",
        "from PIL import Image\n",
        "import glob\n",
        "import os, os.path\n",
        "\n",
        "path = \"/content/gdrive/My Drive/Image20/Guitar/\"\n",
        "count = -1\n",
        "style_img_guitar = style_img\n",
        "for f in os.listdir(path):\n",
        "    count += 1\n",
        "    if count > 100:\n",
        "      break\n",
        "    \n",
        "    if count <= 95:\n",
        "      continue\n",
        "\n",
        "    if count > 75:\n",
        "      style_img_guitar = style_img_elephant\n",
        "    if count > 90:\n",
        "      style_img_guitar = style_img_paint\n",
        "    content_img = image_loader(str(path+f))\n",
        "    input_img = content_img.clone()\n",
        "    imshow(content_img)\n",
        "    \n",
        "    for num in [0, 20, 100, 500]:\n",
        "        print(\"num is \", num)\n",
        "        print(str(path+f))\n",
        "        if f == \".DS_Store\":\n",
        "            continue\n",
        "        \n",
        "        if num !=0 :\n",
        "          output = run_style_transfer(cnn, cnn_normalization_mean, cnn_normalization_std,\n",
        "                                  content_img, style_img_guitar, input_img, num_steps= num)\n",
        "\n",
        "          plt.figure()\n",
        "          img = imshow(output, title='Output Image')\n",
        "          plt.ioff()\n",
        "          plt.show()\n",
        "\n",
        "          img.save(\"/content/gdrive/My Drive/p/train/Guitar/\" + \"guitar_\" +str(count) + \"_\" + \"iter_\" + str(num) + \".jpeg\")\n",
        "          '''\n",
        "          n_out = output.cpu().detach().numpy()\n",
        "          #print(n_out.shape)\n",
        "          n_out = n_out.reshape((imsize, imsize, 3))\n",
        "          #print(n_out.shape)\n",
        "\n",
        "          n_out = n_out * 255\n",
        "          n_out = n_out.astype(np.uint8)\n",
        "\n",
        "          p_out = Image.fromarray(n_out)\n",
        "          '''\n",
        "        else:\n",
        "\n",
        "          n_out = content_img.cpu().detach().numpy()\n",
        "          print(n_out.shape)\n",
        "          n_out = n_out.reshape((imsize, imsize, 3))\n",
        "          print(n_out.shape)\n",
        "\n",
        "          n_out = n_out * 255\n",
        "          n_out = n_out.astype(np.uint8)\n",
        "\n",
        "          p_out = Image.fromarray(n_out)\n",
        "          p_out.save(\"/content/gdrive/My Drive/p/train/Guitar/\" + \"guitar_\" +str(count) + \"_\" + \"iter_\" + str(num) + \".jpeg\")\n",
        "          #p_out.save(\"/content/gdrive/My Drive/Style/airplane/\" + \"airplane_\" +str(count) + \"_\" + \"iter_\" + str(num) + \".jpeg\")\n",
        "        #p_out.save(\"/content/gdrive/My Drive/Style/airplane/\" + \"airplane_\" +str(count) + \"_\" + \"iter_\" + str(num) + \".jpeg\")\n",
        "        \n",
        "    "
      ]
    },
    {
      "cell_type": "code",
      "execution_count": null,
      "metadata": {
        "id": "iiJAkRjCGrK5"
      },
      "outputs": [],
      "source": [
        "#@title\n",
        "from PIL import Image\n",
        "import glob\n",
        "import os, os.path\n",
        "\n",
        "path = \"/content/gdrive/My Drive/Image20/Guitar/\"\n",
        "count = -1\n",
        "style_img_guitar = style_img\n",
        "for f in os.listdir(path):\n",
        "    count += 1\n",
        "    \n",
        "    if count > 125:\n",
        "      break\n",
        "    if count <= 100:\n",
        "      print(count)\n",
        "      continue\n",
        "    if count >112:\n",
        "      style_img_guitar = style_img_paint\n",
        "    content_img = image_loader(str(path+f))\n",
        "    input_img = content_img.clone()\n",
        "    imshow(content_img)\n",
        "    \n",
        "    for num in [0, 20, 100, 500]:\n",
        "        print(\"num is \", num)\n",
        "        print(str(path+f))\n",
        "        if f == \".DS_Store\":\n",
        "            continue\n",
        "        \n",
        "        if num !=0 :\n",
        "          output = run_style_transfer(cnn, cnn_normalization_mean, cnn_normalization_std,\n",
        "                                  content_img, style_img_guitar, input_img, num_steps= num)\n",
        "\n",
        "          plt.figure()\n",
        "          img = imshow(output, title='Output Image')\n",
        "          plt.ioff()\n",
        "          plt.show()\n",
        "\n",
        "          img.save(\"/content/gdrive/My Drive/p/val/Guitar/\" + \"guitar_\" +str(count) + \"_\" + \"iter_\" + str(num) + \".jpeg\")\n",
        "          '''\n",
        "          n_out = output.cpu().detach().numpy()\n",
        "          #print(n_out.shape)\n",
        "          n_out = n_out.reshape((imsize, imsize, 3))\n",
        "          #print(n_out.shape)\n",
        "\n",
        "          n_out = n_out * 255\n",
        "          n_out = n_out.astype(np.uint8)\n",
        "\n",
        "          p_out = Image.fromarray(n_out)\n",
        "          '''\n",
        "        else:\n",
        "\n",
        "          n_out = content_img.cpu().detach().numpy()\n",
        "          print(n_out.shape)\n",
        "          n_out = n_out.reshape((imsize, imsize, 3))\n",
        "          print(n_out.shape)\n",
        "\n",
        "          n_out = n_out * 255\n",
        "          n_out = n_out.astype(np.uint8)\n",
        "\n",
        "          p_out = Image.fromarray(n_out)\n",
        "          p_out.save(\"/content/gdrive/My Drive/p/val/Guitar/\" + \"guitar_\" +str(count) + \"_\" + \"iter_\" + str(num) + \".jpeg\")\n",
        "          #p_out.save(\"/content/gdrive/My Drive/Style/airplane/\" + \"airplane_\" +str(count) + \"_\" + \"iter_\" + str(num) + \".jpeg\")\n",
        "        #p_out.save(\"/content/gdrive/My Drive/Style/airplane/\" + \"airplane_\" +str(count) + \"_\" + \"iter_\" + str(num) + \".jpeg\")\n",
        "        \n",
        "    "
      ]
    },
    {
      "cell_type": "code",
      "execution_count": null,
      "metadata": {
        "id": "Az5GvyUpGrN9"
      },
      "outputs": [],
      "source": [
        ""
      ]
    },
    {
      "cell_type": "code",
      "execution_count": null,
      "metadata": {
        "id": "rFyVCWJHJ654"
      },
      "outputs": [],
      "source": [
        ""
      ]
    },
    {
      "cell_type": "markdown",
      "metadata": {
        "id": "EgB-6gJlJ7Ir"
      },
      "source": [
        "# Elephant generator"
      ]
    },
    {
      "cell_type": "code",
      "execution_count": null,
      "metadata": {
        "colab": {
          "background_save": true
        },
        "id": "QmOheko-Odbq"
      },
      "outputs": [],
      "source": [
        "#@title\n",
        "from PIL import Image\n",
        "import glob\n",
        "import os, os.path\n",
        "\n",
        "path = \"/content/gdrive/My Drive/Image20/elephant/\"\n",
        "count = -1\n",
        "\n",
        "for f in os.listdir(path):\n",
        "    count += 1\n",
        "    if count > 90:\n",
        "      break\n",
        "    content_img = image_loader(str(path+f))\n",
        "    input_img = content_img.clone()\n",
        "    imshow(content_img)\n",
        "    if count <= 50:\n",
        "      continue\n",
        "    for num in [0, 20, 100, 500]:\n",
        "        print(\"num is \", num)\n",
        "        print(str(path+f))\n",
        "        if f == \".DS_Store\":\n",
        "            continue\n",
        "        \n",
        "        if num !=0 :\n",
        "          output = run_style_transfer(cnn, cnn_normalization_mean, cnn_normalization_std,\n",
        "                                  content_img, style_img, input_img, num_steps= num)\n",
        "\n",
        "          plt.figure()\n",
        "          img = imshow(output, title='Output Image')\n",
        "          plt.ioff()\n",
        "          plt.show()\n",
        "\n",
        "          img.save(\"/content/gdrive/My Drive/p/train/elephant/\" + \"elephant_\" +str(count) + \"_\" + \"iter_\" + str(num) + \".jpeg\")\n",
        "          '''\n",
        "          n_out = output.cpu().detach().numpy()\n",
        "          #print(n_out.shape)\n",
        "          n_out = n_out.reshape((imsize, imsize, 3))\n",
        "          #print(n_out.shape)\n",
        "\n",
        "          n_out = n_out * 255\n",
        "          n_out = n_out.astype(np.uint8)\n",
        "\n",
        "          p_out = Image.fromarray(n_out)\n",
        "          '''\n",
        "        else:\n",
        "\n",
        "          n_out = content_img.cpu().detach().numpy()\n",
        "          print(n_out.shape)\n",
        "          n_out = n_out.reshape((imsize, imsize, 3))\n",
        "          print(n_out.shape)\n",
        "\n",
        "          n_out = n_out * 255\n",
        "          n_out = n_out.astype(np.uint8)\n",
        "\n",
        "          p_out = Image.fromarray(n_out)\n",
        "          p_out.save(\"/content/gdrive/My Drive/p/train/elephant/\" + \"elephant_\" +str(count) + \"_\" + \"iter_\" + str(num) + \".jpeg\")\n",
        "          #p_out.save(\"/content/gdrive/My Drive/Style/airplane/\" + \"airplane_\" +str(count) + \"_\" + \"iter_\" + str(num) + \".jpeg\")\n",
        "        #p_out.save(\"/content/gdrive/My Drive/Style/airplane/\" + \"airplane_\" +str(count) + \"_\" + \"iter_\" + str(num) + \".jpeg\")\n",
        "        \n",
        "    "
      ]
    },
    {
      "cell_type": "code",
      "execution_count": null,
      "metadata": {
        "id": "MZqVOiK0O7S9"
      },
      "outputs": [],
      "source": [
        "#@title\n",
        "from PIL import Image\n",
        "import glob\n",
        "import os, os.path\n",
        "\n",
        "path = \"/content/gdrive/My Drive/Image20/elephant/\"\n",
        "count = -1\n",
        "\n",
        "for f in os.listdir(path):\n",
        "    count += 1\n",
        "    if count > 105:\n",
        "      break\n",
        "    content_img = image_loader(str(path+f))\n",
        "    input_img = content_img.clone()\n",
        "    imshow(content_img)\n",
        "    if count <= 90:\n",
        "      continue\n",
        "    for num in [0, 20, 100, 500]:\n",
        "        print(\"num is \", num)\n",
        "        print(str(path+f))\n",
        "        if f == \".DS_Store\":\n",
        "            continue\n",
        "        \n",
        "        if num !=0 :\n",
        "          output = run_style_transfer(cnn, cnn_normalization_mean, cnn_normalization_std,\n",
        "                                  content_img, style_img, input_img, num_steps= num)\n",
        "\n",
        "          plt.figure()\n",
        "          img = imshow(output, title='Output Image')\n",
        "          plt.ioff()\n",
        "          plt.show()\n",
        "\n",
        "          img.save(\"/content/gdrive/My Drive/p/val/elephant/\" + \"elephant_\" +str(count) + \"_\" + \"iter_\" + str(num) + \".jpeg\")\n",
        "          '''\n",
        "          n_out = output.cpu().detach().numpy()\n",
        "          #print(n_out.shape)\n",
        "          n_out = n_out.reshape((imsize, imsize, 3))\n",
        "          #print(n_out.shape)\n",
        "\n",
        "          n_out = n_out * 255\n",
        "          n_out = n_out.astype(np.uint8)\n",
        "\n",
        "          p_out = Image.fromarray(n_out)\n",
        "          '''\n",
        "        else:\n",
        "\n",
        "          n_out = content_img.cpu().detach().numpy()\n",
        "          print(n_out.shape)\n",
        "          n_out = n_out.reshape((imsize, imsize, 3))\n",
        "          print(n_out.shape)\n",
        "\n",
        "          n_out = n_out * 255\n",
        "          n_out = n_out.astype(np.uint8)\n",
        "\n",
        "          p_out = Image.fromarray(n_out)\n",
        "          p_out.save(\"/content/gdrive/My Drive/p/val/elephant/\" + \"elephant_\" +str(count) + \"_\" + \"iter_\" + str(num) + \".jpeg\")\n",
        "          #p_out.save(\"/content/gdrive/My Drive/Style/airplane/\" + \"airplane_\" +str(count) + \"_\" + \"iter_\" + str(num) + \".jpeg\")\n",
        "        #p_out.save(\"/content/gdrive/My Drive/Style/airplane/\" + \"airplane_\" +str(count) + \"_\" + \"iter_\" + str(num) + \".jpeg\")\n",
        "        \n",
        "    "
      ]
    },
    {
      "cell_type": "code",
      "execution_count": null,
      "metadata": {
        "id": "baXAT9jnSMpY"
      },
      "outputs": [],
      "source": [
        ""
      ]
    },
    {
      "cell_type": "markdown",
      "metadata": {
        "id": "JGLVoJ_zSLMB"
      },
      "source": [
        ""
      ]
    },
    {
      "cell_type": "markdown",
      "metadata": {
        "id": "ZoQt7O0BSGa7"
      },
      "source": [
        "# DCT Transformation"
      ]
    },
    {
      "cell_type": "code",
      "execution_count": null,
      "metadata": {
        "id": "1ORUkL2ETIbm"
      },
      "outputs": [],
      "source": [
        "import numpy as np\n",
        "\n",
        "def rgb2yuv(rgb):\n",
        "\n",
        "    r, g, b = rgb[:,:,0], rgb[:,:,1], rgb[:,:,2]\n",
        "    Y=0.299*r+0.587*g+0.114*b\n",
        "    U=-0.147*r-0.289*g+0.436*b\n",
        "    V=0.615*r-0.515*g-0.100*b\n",
        "\n",
        "    return Y, U, V"
      ]
    },
    {
      "cell_type": "code",
      "execution_count": null,
      "metadata": {
        "id": "Q14DQ8zOSPEg"
      },
      "outputs": [],
      "source": [
        "#@title\n",
        "from PIL import Image\n",
        "import glob\n",
        "import os, os.path\n",
        "\n",
        "from PIL import Image as PImage\n",
        "\n",
        "path = \"/content/gdrive/My Drive/Image20/Airplane/\"\n",
        "count = -1\n",
        "\n",
        "for f in os.listdir(path):\n",
        "    count += 1\n",
        "    if count > 500:\n",
        "      break\n",
        "    if count < 300:\n",
        "      continue\n",
        "    \n",
        "\n",
        "\n",
        "    #input_img = content_img.clone()\n",
        "\n",
        "    #print(type(input_img))\n",
        "    image = cv2.imread(str(path+f))\n",
        "    #plt.imshow(image)\n",
        "    image = cv2.cvtColor(image, cv2.COLOR_BGR2RGB)\n",
        "    #plt.imshow(image)\n",
        "    new_img = cv2.resize(image, (512, 512))\n",
        "    plt.imshow(new_img)\n",
        "    plt.pause(0.001)\n",
        "    Y, U, V  = cv2.split(new_img)\n",
        "    Y = np.float32(Y)\n",
        "    U = np.float32(U)\n",
        "    V = np.float32(V)\n",
        "    #Y, U, V = rgb2yuv(new_img)\n",
        "    dcty = cv2.dct(Y)\n",
        "    dctu = cv2.dct(U)\n",
        "    dctv = cv2.dct(V)\n",
        "    for i in range(512):\n",
        "      for j in range(512):\n",
        "          if i> 32 or j > 32:\n",
        "              dcty[i][j] = 0\n",
        "              dctu[i][j] = 0\n",
        "              dctv[i][j] = 0\n",
        "    dct2y = cv2.idct(dcty)\n",
        "    dct2u = cv2.idct(dctu)\n",
        "    dct2v = cv2.idct(dctv)\n",
        "    \n",
        "    rgb_uint8 = (np.dstack((dct2y, dct2u, dct2v))).astype(np.uint8) \n",
        "\n",
        "    plt.imshow(rgb_uint8)\n",
        "    plt.pause(0.001)\n",
        "    \n",
        "    plt.imshow(dct2y)\n",
        "    \n",
        "    plt.pause(0.001)\n",
        "    '''\n",
        "    #Image.open(path).convert('RGB')\n",
        "    #plt.imshow(dct2y3)\n",
        "    stacked_img = np.stack((dct2y,)*3, axis=-1)\n",
        "\n",
        "    im = Image.fromarray((stacked_img  * 255).astype(np.uint8))\n",
        "    #imrgb = im.convert('RGB')\n",
        "    plt.imshow(im)\n",
        "    '''\n",
        "    #im.save(\"/content/gdrive/My Drive/dp/train/elephant/\" + \"elephant_\" +str(count) + \"_\" + \"iter_\"  + \".jpeg\")\n",
        "    #im.save(\"/content/gdrive/My Drive/dp/train/airplane/\" + \"airplane_\" +str(count) + \"_\" + \"iter_\"  + \".jpeg\")\n",
        "          #p_out.save(\"/content/gdrive/My Drive/Style/airplane/\" + \"airplane_\" +str(count) + \"_\" + \"iter_\" + str(num) + \".jpeg\")\n",
        "        #p_out.save(\"/content/gdrive/My Drive/Style/airplane/\" + \"airplane_\" +str(count) + \"_\" + \"iter_\" + str(num) + \".jpeg\")\n",
        "        \n",
        "    "
      ]
    },
    {
      "cell_type": "code",
      "execution_count": null,
      "metadata": {
        "id": "GIr_EwFwUOMx"
      },
      "outputs": [],
      "source": [
        ""
      ]
    }
  ],
  "metadata": {
    "accelerator": "GPU",
    "colab": {
      "collapsed_sections": [],
      "name": "“Neuro 140  Style _transfer.ipynb",
      "provenance": [],
      "authorship_tag": "ABX9TyPziWAQwHFpIf1jaUpreGsd",
      "include_colab_link": true
    },
    "kernelspec": {
      "display_name": "Python 3",
      "name": "python3"
    },
    "language_info": {
      "name": "python"
    }
  },
  "nbformat": 4,
  "nbformat_minor": 0
}